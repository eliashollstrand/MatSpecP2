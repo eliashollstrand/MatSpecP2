{
 "cells": [
  {
   "cell_type": "code",
   "execution_count": 2,
   "id": "6f169b14",
   "metadata": {},
   "outputs": [],
   "source": [
    "import numpy as np\n",
    "import math"
   ]
  },
  {
   "cell_type": "code",
   "execution_count": 11,
   "id": "6fbe4982",
   "metadata": {},
   "outputs": [
    {
     "name": "stdout",
     "output_type": "stream",
     "text": [
      "[[ 3.29 -0.29]\n",
      " [ 0.82  1.18]]\n",
      "\n",
      "Längden på ovanstående projektionsvektorer:\n",
      "||u1|| = 3.4\n",
      "||u2|| = 1.21\n"
     ]
    }
   ],
   "source": [
    "def dot_product(vec_1, vec_2):\n",
    "\n",
    "    result = vec_1[0]*vec_2[0] + vec_1[1]*vec_2[1]\n",
    "\n",
    "    return result\n",
    "\n",
    "def is_orthogonal(koord_axlar):\n",
    "    \n",
    "    result = False\n",
    " \n",
    "    if(dot_product(koord_axlar[0], koord_axlar[1]) == 0):\n",
    "        result = True\n",
    "    \n",
    "    return result\n",
    "\n",
    "def calc_proj(vektor, koord_axlar):\n",
    "\n",
    "    result = np.zeros([2, 2])\n",
    "    \n",
    "    e1 = (koord_axlar[0])/math.sqrt(pow(koord_axlar[0][0], 2) + pow(koord_axlar[0][1], 2)) # u1/||u1||\n",
    "    e2 = (koord_axlar[1])/math.sqrt(pow(koord_axlar[1][0], 2) + pow(koord_axlar[1][1], 2)) # u2/||u2||\n",
    "    \n",
    "    #proj_u1_y = <y,e1>e1 och proj_u2_y = <y,e2>e2\n",
    "    proj_u1_y = dot_product(vektor, e1)*e1\n",
    "    proj_u2_y = dot_product(vektor, e2)*e2\n",
    "    \n",
    "    result[0][0] = proj_u1_y[0]\n",
    "    result[1][0] = proj_u1_y[1]\n",
    "    result[0][1] = proj_u2_y[0]\n",
    "    result[1][1] = proj_u2_y[1]\n",
    "    \n",
    "    return result\n",
    "\n",
    "# Test-exempel\n",
    "y = np.array([[3], [2]])\n",
    "u1 = np.array([4, 1])\n",
    "u2 = np.array([-1, 4])\n",
    "u = np.array([u1.T, u2.T])\n",
    "# Kontrollera hur y och u skrivs ut\n",
    "# INNAN du börjar skriva funktionerna\n",
    "\n",
    "### Ändra inget under denna rad\n",
    "if is_orthogonal(u):\n",
    "    proj = calc_proj(y, u)\n",
    "    print(proj.round(2))\n",
    "    # För en fungerande funktion och givna\n",
    "    # data enligt räkneexemplet så skrivs ut:\n",
    "    # [[3.29, -0.29],\n",
    "    # [0.82, 1.18]]\n",
    "\n",
    "    print(\"\\nLängden på ovanstående projektionsvektorer:\")\n",
    "    norm_u1 = round(np.linalg.norm(proj[:, 0]), 2)\n",
    "    norm_u2 = round(np.linalg.norm(proj[:, 1]), 2)\n",
    "    print(f\"||u1|| = {norm_u1}\")  # Blir 3.4\n",
    "    print(f\"||u2|| = {norm_u2}\")  # Blir 1.21\n",
    "else:\n",
    "    print(\"Angivna koordinataxlar är inte ortogonala.\")"
   ]
  },
  {
   "cell_type": "code",
   "execution_count": null,
   "id": "681ad8b3",
   "metadata": {},
   "outputs": [],
   "source": []
  }
 ],
 "metadata": {
  "kernelspec": {
   "display_name": "Python 3 (ipykernel)",
   "language": "python",
   "name": "python3"
  },
  "language_info": {
   "codemirror_mode": {
    "name": "ipython",
    "version": 3
   },
   "file_extension": ".py",
   "mimetype": "text/x-python",
   "name": "python",
   "nbconvert_exporter": "python",
   "pygments_lexer": "ipython3",
   "version": "3.9.7"
  }
 },
 "nbformat": 4,
 "nbformat_minor": 5
}
