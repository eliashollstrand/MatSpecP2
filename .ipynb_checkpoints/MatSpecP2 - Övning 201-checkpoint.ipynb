{
 "cells": [
  {
   "cell_type": "code",
   "execution_count": 3,
   "id": "efe4bce0",
   "metadata": {},
   "outputs": [],
   "source": [
    "# Övning 201:1 och 201:2"
   ]
  },
  {
   "cell_type": "code",
   "execution_count": 5,
   "id": "ce8deb11",
   "metadata": {},
   "outputs": [],
   "source": [
    "import numpy as np"
   ]
  },
  {
   "cell_type": "code",
   "execution_count": 72,
   "id": "a9cffe5d",
   "metadata": {},
   "outputs": [
    {
     "name": "stdout",
     "output_type": "stream",
     "text": [
      "\n",
      "Elementet på plats (2,1) är 64\n",
      "\n",
      "C =\n",
      " [[28. 34.]\n",
      " [64. 79.]]\n",
      "\n",
      "Programmet avslutades normalt\n"
     ]
    }
   ],
   "source": [
    "def make_mat_product(mat_A, mat_B):\n",
    "    \n",
    "    product = np.zeros([number_of_rows_in_A, number_of_cols_in_B])\n",
    "    \n",
    "    if(number_of_rows_in_A == number_of_cols_in_B):\n",
    "        for i in range(number_of_rows_in_A):\n",
    "            for j in range(number_of_cols_in_B):\n",
    "                product[i][j] += get_element(mat_A, mat_B, i+1, j+1)\n",
    "\n",
    "    else:\n",
    "        product = None\n",
    "    \n",
    "    return product\n",
    "\n",
    "def get_element(mat_A, mat_B, i, j):\n",
    "    \n",
    "    result = 0\n",
    "    \n",
    "    if(number_of_rows_in_A == number_of_cols_in_B):\n",
    "        for k in range(number_of_rows_in_A):\n",
    "            for l in range(number_of_cols_in_B):\n",
    "                for m in range(len(mat_B)):\n",
    "                    if(k+1 == i and l+1 == j):\n",
    "                        result+=mat_A[k][m] * mat_B[m][l]\n",
    "               \n",
    "    else:\n",
    "        result = None\n",
    "\n",
    "    return result\n",
    "\n",
    "\n",
    "# Ingångsvärden\n",
    "A = np.array([[1, 2, 3], [4, 5, 6]])  \n",
    "B = np.array([[2, 3], [4, 5], [6, 7]]) \n",
    "\n",
    "# Sökt index, rad och kolonn\n",
    "i, j = 2, 1  \n",
    "\n",
    "number_of_rows_in_A = A.shape[0]\n",
    "number_of_cols_in_B = B.shape[1]\n",
    "\n",
    "if i <= number_of_rows_in_A and i > 0 and j <= number_of_cols_in_B and j > 0:\n",
    "    c_ij = get_element(A, B, i, j)\n",
    "    if c_ij != None:\n",
    "        print(\"\\nElementet på plats (\" + str(i) + \",\" + str(j) + \") är \" + str(c_ij) + \"\\n\")\n",
    "    else:\n",
    "        print(\"\\nDe angivna matriserna är inte multiplicerbara med varandra\")\n",
    "else:\n",
    "    print(\"\\nBegärt index finns ej i resultatmatrisen\")\n",
    "\n",
    "    \n",
    "C = make_mat_product(A, B)\n",
    "if C is None:\n",
    "    print(\"De angivna matriserna är inte multiplicerbara med varandra\")\n",
    "else:\n",
    "    print(f\"C =\\n {C}\")\n",
    "    \n",
    "print(\"\\nProgrammet avslutades normalt\")"
   ]
  }
 ],
 "metadata": {
  "kernelspec": {
   "display_name": "Python 3 (ipykernel)",
   "language": "python",
   "name": "python3"
  },
  "language_info": {
   "codemirror_mode": {
    "name": "ipython",
    "version": 3
   },
   "file_extension": ".py",
   "mimetype": "text/x-python",
   "name": "python",
   "nbconvert_exporter": "python",
   "pygments_lexer": "ipython3",
   "version": "3.9.7"
  }
 },
 "nbformat": 4,
 "nbformat_minor": 5
}
