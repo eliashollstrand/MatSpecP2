{
 "cells": [
  {
   "cell_type": "code",
   "execution_count": 102,
   "id": "4ff4e084",
   "metadata": {},
   "outputs": [],
   "source": [
    "import numpy as np\n",
    "from tabulate import tabulate"
   ]
  },
  {
   "cell_type": "code",
   "execution_count": 115,
   "id": "0e11641d",
   "metadata": {},
   "outputs": [
    {
     "name": "stdout",
     "output_type": "stream",
     "text": [
      "       x         y\n",
      "--------  --------\n",
      "150.0000   74.3000\n",
      "250.0000  127.0000\n",
      "450.0000  230.0000\n",
      "600.0000  289.0000\n",
      "725.0000  367.0000\n",
      "\n",
      "Ovanstående tabell ger:\n",
      "\n",
      "B_0 = 1.12\n",
      "B_1 = 0.497\n",
      "\n",
      "Ekvationen på formen y = kx + m för den anpassade linjen blir y = 0.497x + 1.12\n"
     ]
    }
   ],
   "source": [
    "x = np.matrix([150, 250, 450, 600, 725])\n",
    "y = np.matrix([74.3, 127, 230, 289, 367])\n",
    "\n",
    "def least_square_method(a, b):\n",
    "    \n",
    "    if(a.size > b.size):\n",
    "        while(a.size > b.size):\n",
    "            a = np.delete(a, [a.size-1], 1)\n",
    "    else:\n",
    "        while(b.size > a.size):\n",
    "            b = np.delete(b, [b.size-1], 1)        \n",
    "            \n",
    "    \n",
    "    A = np.zeros((a.size, 2))\n",
    "\n",
    "    A[:,1] = a\n",
    "\n",
    "    for i in range(a.size):\n",
    "        A[i][0] = 1\n",
    "\n",
    "    A_T = A.transpose()\n",
    "    b_T = b.transpose()\n",
    "\n",
    "    VL_1 = A_T@A\n",
    "    HL_1 = A_T@b_T\n",
    "\n",
    "    HL_2 = np.linalg.inv(VL_1)@HL_1\n",
    "    \n",
    "    return HL_2\n",
    "\n",
    "result = least_square_method(x, y)\n",
    "\n",
    "B_0 = round(float(str(str(result[0])[1:-1])[1:-1]), 3)\n",
    "B_1 = round(float(str(str(result[1])[1:-1])[1:-1]), 3)\n",
    "\n",
    "x_arr = np.squeeze(np.asarray(x))\n",
    "y_arr = np.squeeze(np.asarray(y))\n",
    "\n",
    "table = zip(x_arr, y_arr)\n",
    "print(tabulate(table, headers=['x', 'y'], floatfmt=\".4f\"))\n",
    "\n",
    "print(\"\\nOvanstående tabell ger:\\n\")\n",
    "\n",
    "\n",
    "print(f\"B_0 = {B_0}\")\n",
    "print(f\"B_1 = {B_1}\")\n",
    "print(f\"\\nEkvationen på formen y = kx + m för den anpassade linjen blir y = {B_1}x + {B_0}\")\n",
    "\n"
   ]
  }
 ],
 "metadata": {
  "kernelspec": {
   "display_name": "Python 3 (ipykernel)",
   "language": "python",
   "name": "python3"
  },
  "language_info": {
   "codemirror_mode": {
    "name": "ipython",
    "version": 3
   },
   "file_extension": ".py",
   "mimetype": "text/x-python",
   "name": "python",
   "nbconvert_exporter": "python",
   "pygments_lexer": "ipython3",
   "version": "3.9.7"
  }
 },
 "nbformat": 4,
 "nbformat_minor": 5
}
